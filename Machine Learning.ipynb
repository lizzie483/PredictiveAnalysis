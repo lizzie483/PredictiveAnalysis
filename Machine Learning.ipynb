{
 "cells": [
  {
   "cell_type": "markdown",
   "metadata": {},
   "source": [
    "## Machine Learning\n",
    "\n",
    "### Training the models"
   ]
  },
  {
   "cell_type": "code",
   "execution_count": 2,
   "metadata": {},
   "outputs": [],
   "source": [
    "# SET UP\n",
    "\n",
    "from sklearn.ensemble import RandomForestClassifier\n",
    "from sklearn.neural_network import MLPClassifier\n",
    "from sklearn.model_selection import train_test_split\n",
    "from sklearn.metrics import accuracy_score\n",
    "from sklearn.metrics import precision_score\n",
    "import pandas as pd\n",
    "import numpy as np\n",
    "\n",
    "\n",
    "# PLOTTING\n",
    "%matplotlib inline\n",
    "import matplotlib as mpl\n",
    "import matplotlib.pyplot as plt\n"
   ]
  },
  {
   "cell_type": "markdown",
   "metadata": {},
   "source": [
    "### Calling the data"
   ]
  },
  {
   "cell_type": "code",
   "execution_count": 3,
   "metadata": {},
   "outputs": [
    {
     "data": {
      "text/html": [
       "<div>\n",
       "<style scoped>\n",
       "    .dataframe tbody tr th:only-of-type {\n",
       "        vertical-align: middle;\n",
       "    }\n",
       "\n",
       "    .dataframe tbody tr th {\n",
       "        vertical-align: top;\n",
       "    }\n",
       "\n",
       "    .dataframe thead th {\n",
       "        text-align: right;\n",
       "    }\n",
       "</style>\n",
       "<table border=\"1\" class=\"dataframe\">\n",
       "  <thead>\n",
       "    <tr style=\"text-align: right;\">\n",
       "      <th></th>\n",
       "      <th>patent_number</th>\n",
       "      <th>PK</th>\n",
       "      <th>TCT</th>\n",
       "      <th>CS</th>\n",
       "      <th>MF</th>\n",
       "      <th>TS</th>\n",
       "      <th>TSC</th>\n",
       "      <th>COL</th>\n",
       "      <th>INV</th>\n",
       "      <th>TAC</th>\n",
       "      <th>TKW</th>\n",
       "      <th>FC3</th>\n",
       "      <th>FC5</th>\n",
       "      <th>FC10</th>\n",
       "      <th>Category FC3</th>\n",
       "      <th>Category FC5</th>\n",
       "      <th>Category FC10</th>\n",
       "      <th>Category (FC3)</th>\n",
       "      <th>Category (FC5)</th>\n",
       "      <th>Category (FC10)</th>\n",
       "    </tr>\n",
       "  </thead>\n",
       "  <tbody>\n",
       "    <tr>\n",
       "      <th>0</th>\n",
       "      <td>6672133</td>\n",
       "      <td>4.0</td>\n",
       "      <td>2000.0</td>\n",
       "      <td>1.0</td>\n",
       "      <td>250.0</td>\n",
       "      <td>4.0</td>\n",
       "      <td>4.0</td>\n",
       "      <td>0.0</td>\n",
       "      <td>4.0</td>\n",
       "      <td>6201.0</td>\n",
       "      <td>171.0</td>\n",
       "      <td>0.0</td>\n",
       "      <td>2.0</td>\n",
       "      <td>3.0</td>\n",
       "      <td>4.0</td>\n",
       "      <td>3.0</td>\n",
       "      <td>3.0</td>\n",
       "      <td>Nivel 4</td>\n",
       "      <td>Nivel 3</td>\n",
       "      <td>Nivel 3</td>\n",
       "    </tr>\n",
       "    <tr>\n",
       "      <th>1</th>\n",
       "      <td>6672143</td>\n",
       "      <td>4.0</td>\n",
       "      <td>1991.0</td>\n",
       "      <td>1.0</td>\n",
       "      <td>73.0</td>\n",
       "      <td>3.0</td>\n",
       "      <td>4.0</td>\n",
       "      <td>0.0</td>\n",
       "      <td>3.0</td>\n",
       "      <td>797.0</td>\n",
       "      <td>54.0</td>\n",
       "      <td>0.0</td>\n",
       "      <td>0.0</td>\n",
       "      <td>1.0</td>\n",
       "      <td>4.0</td>\n",
       "      <td>4.0</td>\n",
       "      <td>4.0</td>\n",
       "      <td>Nivel 4</td>\n",
       "      <td>Nivel 4</td>\n",
       "      <td>Nivel 4</td>\n",
       "    </tr>\n",
       "    <tr>\n",
       "      <th>2</th>\n",
       "      <td>6673332</td>\n",
       "      <td>4.0</td>\n",
       "      <td>1988.0</td>\n",
       "      <td>1.0</td>\n",
       "      <td>424.0</td>\n",
       "      <td>2.0</td>\n",
       "      <td>3.0</td>\n",
       "      <td>0.0</td>\n",
       "      <td>3.0</td>\n",
       "      <td>6201.0</td>\n",
       "      <td>758.0</td>\n",
       "      <td>0.0</td>\n",
       "      <td>0.0</td>\n",
       "      <td>0.0</td>\n",
       "      <td>4.0</td>\n",
       "      <td>4.0</td>\n",
       "      <td>4.0</td>\n",
       "      <td>Nivel 4</td>\n",
       "      <td>Nivel 4</td>\n",
       "      <td>Nivel 4</td>\n",
       "    </tr>\n",
       "    <tr>\n",
       "      <th>3</th>\n",
       "      <td>6673333</td>\n",
       "      <td>38.0</td>\n",
       "      <td>1993.0</td>\n",
       "      <td>1.0</td>\n",
       "      <td>424.0</td>\n",
       "      <td>1.0</td>\n",
       "      <td>2.0</td>\n",
       "      <td>0.0</td>\n",
       "      <td>3.0</td>\n",
       "      <td>6201.0</td>\n",
       "      <td>23.0</td>\n",
       "      <td>0.0</td>\n",
       "      <td>1.0</td>\n",
       "      <td>8.0</td>\n",
       "      <td>4.0</td>\n",
       "      <td>4.0</td>\n",
       "      <td>3.0</td>\n",
       "      <td>Nivel 4</td>\n",
       "      <td>Nivel 4</td>\n",
       "      <td>Nivel 3</td>\n",
       "    </tr>\n",
       "    <tr>\n",
       "      <th>4</th>\n",
       "      <td>6673334</td>\n",
       "      <td>11.0</td>\n",
       "      <td>1999.0</td>\n",
       "      <td>1.0</td>\n",
       "      <td>424.0</td>\n",
       "      <td>2.0</td>\n",
       "      <td>7.0</td>\n",
       "      <td>0.0</td>\n",
       "      <td>5.0</td>\n",
       "      <td>6201.0</td>\n",
       "      <td>1.0</td>\n",
       "      <td>1.0</td>\n",
       "      <td>1.0</td>\n",
       "      <td>3.0</td>\n",
       "      <td>4.0</td>\n",
       "      <td>4.0</td>\n",
       "      <td>3.0</td>\n",
       "      <td>Nivel 4</td>\n",
       "      <td>Nivel 4</td>\n",
       "      <td>Nivel 3</td>\n",
       "    </tr>\n",
       "  </tbody>\n",
       "</table>\n",
       "</div>"
      ],
      "text/plain": [
       "  patent_number    PK     TCT   CS     MF   TS  TSC  COL  INV     TAC    TKW  \\\n",
       "0       6672133   4.0  2000.0  1.0  250.0  4.0  4.0  0.0  4.0  6201.0  171.0   \n",
       "1       6672143   4.0  1991.0  1.0   73.0  3.0  4.0  0.0  3.0   797.0   54.0   \n",
       "2       6673332   4.0  1988.0  1.0  424.0  2.0  3.0  0.0  3.0  6201.0  758.0   \n",
       "3       6673333  38.0  1993.0  1.0  424.0  1.0  2.0  0.0  3.0  6201.0   23.0   \n",
       "4       6673334  11.0  1999.0  1.0  424.0  2.0  7.0  0.0  5.0  6201.0    1.0   \n",
       "\n",
       "   FC3  FC5  FC10  Category FC3  Category FC5  Category FC10 Category (FC3)  \\\n",
       "0  0.0  2.0   3.0           4.0           3.0            3.0        Nivel 4   \n",
       "1  0.0  0.0   1.0           4.0           4.0            4.0        Nivel 4   \n",
       "2  0.0  0.0   0.0           4.0           4.0            4.0        Nivel 4   \n",
       "3  0.0  1.0   8.0           4.0           4.0            3.0        Nivel 4   \n",
       "4  1.0  1.0   3.0           4.0           4.0            3.0        Nivel 4   \n",
       "\n",
       "  Category (FC5) Category (FC10)  \n",
       "0        Nivel 3         Nivel 3  \n",
       "1        Nivel 4         Nivel 4  \n",
       "2        Nivel 4         Nivel 4  \n",
       "3        Nivel 4         Nivel 3  \n",
       "4        Nivel 4         Nivel 3  "
      ]
     },
     "execution_count": 3,
     "metadata": {},
     "output_type": "execute_result"
    }
   ],
   "source": [
    "patents_features = pd.read_csv('patents_final_features.csv')\n",
    "\n",
    "patents_features.head()"
   ]
  },
  {
   "cell_type": "markdown",
   "metadata": {},
   "source": [
    "### Defining the dataset"
   ]
  },
  {
   "cell_type": "code",
   "execution_count": 97,
   "metadata": {
    "scrolled": true
   },
   "outputs": [],
   "source": [
    "#Defining Training Set\n",
    "X=patents_features[['PK','TCT','MF','TS','TSC','COL','INV','TAC','TKW']]\n",
    "y=patents_features[['Category FC3','Category FC5','Category FC10']]\n"
   ]
  },
  {
   "cell_type": "markdown",
   "metadata": {},
   "source": [
    "#### Three years Forecast\n",
    "\n",
    "1. Random Forests\n",
    "2. Gradien Boost Ensemble\n",
    "3. ANN"
   ]
  },
  {
   "cell_type": "markdown",
   "metadata": {},
   "source": [
    "#### Random Forests"
   ]
  },
  {
   "cell_type": "code",
   "execution_count": 98,
   "metadata": {},
   "outputs": [
    {
     "data": {
      "text/plain": [
       "RandomForestClassifier(bootstrap=True, class_weight=None, criterion='gini',\n",
       "                       max_depth=None, max_features='auto', max_leaf_nodes=None,\n",
       "                       min_impurity_decrease=0.0, min_impurity_split=None,\n",
       "                       min_samples_leaf=1, min_samples_split=2,\n",
       "                       min_weight_fraction_leaf=0.0, n_estimators=500,\n",
       "                       n_jobs=-1, oob_score=False, random_state=0, verbose=0,\n",
       "                       warm_start=False)"
      ]
     },
     "execution_count": 98,
     "metadata": {},
     "output_type": "execute_result"
    }
   ],
   "source": [
    "X_train, X_test, y_train, y_test = train_test_split(X, y, test_size=0.15, random_state=0)\n",
    "rnd_clf_3 = RandomForestClassifier(n_estimators=500,n_jobs=-1, random_state=0)\n",
    "rnd_clf_3.fit(X_train, y_train['Category FC3'])\n"
   ]
  },
  {
   "cell_type": "code",
   "execution_count": 99,
   "metadata": {
    "scrolled": true
   },
   "outputs": [
    {
     "name": "stdout",
     "output_type": "stream",
     "text": [
      "RandomForestClassifier : 0.9707631189468491\n"
     ]
    }
   ],
   "source": [
    "y_pred_rnd_3= rnd_clf_3.predict(X)\n",
    "print(rnd_clf_3.__class__.__name__,\":\",accuracy_score(y['Category FC3'], y_pred_rnd_3))"
   ]
  },
  {
   "cell_type": "markdown",
   "metadata": {},
   "source": [
    "#### ANN"
   ]
  },
  {
   "cell_type": "code",
   "execution_count": 132,
   "metadata": {},
   "outputs": [
    {
     "data": {
      "text/plain": [
       "MLPClassifier(activation='relu', alpha=1e-05, batch_size='auto', beta_1=0.9,\n",
       "              beta_2=0.999, early_stopping=False, epsilon=1e-08,\n",
       "              hidden_layer_sizes=(1000, 5), learning_rate='constant',\n",
       "              learning_rate_init=0.001, max_iter=200, momentum=0.9,\n",
       "              n_iter_no_change=10, nesterovs_momentum=True, power_t=0.5,\n",
       "              random_state=1, shuffle=True, solver='lbfgs', tol=0.0001,\n",
       "              validation_fraction=0.1, verbose=False, warm_start=False)"
      ]
     },
     "execution_count": 132,
     "metadata": {},
     "output_type": "execute_result"
    }
   ],
   "source": [
    "ann_clf_3 = MLPClassifier(solver='lbfgs', alpha=1e-5,hidden_layer_sizes=(1000, 5), random_state=1)\n",
    "ann_clf_3.fit(X, y['Category FC3'])"
   ]
  },
  {
   "cell_type": "code",
   "execution_count": 133,
   "metadata": {},
   "outputs": [
    {
     "name": "stdout",
     "output_type": "stream",
     "text": [
      "Layers and iter\n",
      "4\n",
      "17\n"
     ]
    }
   ],
   "source": [
    "print(\"Layers and iter\")\n",
    "print(ann_clf.n_layers_)\n",
    "print(ann_clf.n_iter_)"
   ]
  },
  {
   "cell_type": "code",
   "execution_count": 134,
   "metadata": {
    "scrolled": true
   },
   "outputs": [
    {
     "name": "stdout",
     "output_type": "stream",
     "text": [
      "MLPClassifier : 0.8178277464752162\n"
     ]
    }
   ],
   "source": [
    "y_pred_ann_3=ann_clf_3.predict(X)\n",
    "print(ann_clf_3.__class__.__name__,\":\",accuracy_score(y['Category FC3'], y_pred_ann_3))"
   ]
  },
  {
   "cell_type": "markdown",
   "metadata": {},
   "source": [
    "#### Feature Importance for Rnd Forests"
   ]
  },
  {
   "cell_type": "code",
   "execution_count": 154,
   "metadata": {},
   "outputs": [],
   "source": [
    "def plot_feature_importances(model,category):\n",
    " n_features = X.shape[1]\n",
    " plt.barh(range(n_features), model.feature_importances_, align='center',color=['#f5c284'])\n",
    " plt.yticks(np.arange(n_features), X,c='black')\n",
    " plt.title(\"Feature Importance for \"+model.__class__.__name__+\" : \"+category)\n",
    " plt.xlabel(\"Feature importance\")\n",
    " plt.ylabel(\"Feature\")\n",
    " plt.savefig('featureImportances.png')\n"
   ]
  },
  {
   "cell_type": "code",
   "execution_count": 90,
   "metadata": {},
   "outputs": [
    {
     "data": {
      "image/png": "[encoded data removed]",
      "text/plain": [
       "<Figure size 432x288 with 1 Axes>"
      ]
     },
     "metadata": {
      "needs_background": "light"
     },
     "output_type": "display_data"
    }
   ],
   "source": [
    "plot_feature_importances(rnd_clf_3,\" 3 years forecast \")\n"
   ]
  },
  {
   "cell_type": "markdown",
   "metadata": {},
   "source": [
    "#### Five years Forecast\n",
    "\n",
    "1. Random Forests\n",
    "2. Gradien Boost Ensemble\n",
    "3. ANN"
   ]
  },
  {
   "cell_type": "markdown",
   "metadata": {},
   "source": [
    "Random Forests\n"
   ]
  },
  {
   "cell_type": "code",
   "execution_count": 135,
   "metadata": {},
   "outputs": [
    {
     "data": {
      "text/plain": [
       "RandomForestClassifier(bootstrap=True, class_weight=None, criterion='gini',\n",
       "                       max_depth=None, max_features='auto', max_leaf_nodes=None,\n",
       "                       min_impurity_decrease=0.0, min_impurity_split=None,\n",
       "                       min_samples_leaf=1, min_samples_split=2,\n",
       "                       min_weight_fraction_leaf=0.0, n_estimators=500,\n",
       "                       n_jobs=-1, oob_score=False, random_state=0, verbose=0,\n",
       "                       warm_start=False)"
      ]
     },
     "execution_count": 135,
     "metadata": {},
     "output_type": "execute_result"
    }
   ],
   "source": [
    "X_train, X_test, y_train, y_test = train_test_split(X, y, test_size=0.15, random_state=0)\n",
    "rnd_clf_5 = RandomForestClassifier(n_estimators=500,n_jobs=-1, random_state=0)\n",
    "rnd_clf_5.fit(X_train, y_train['Category FC5'])\n"
   ]
  },
  {
   "cell_type": "code",
   "execution_count": 136,
   "metadata": {
    "scrolled": true
   },
   "outputs": [
    {
     "name": "stdout",
     "output_type": "stream",
     "text": [
      "RandomForestClassifier : 0.9447459299457326\n"
     ]
    }
   ],
   "source": [
    "y_pred_rnd_5= rnd_clf_5.predict(X)\n",
    "print(rnd_clf_5.__class__.__name__,\":\",accuracy_score(y['Category FC5'], y_pred_rnd_5))"
   ]
  },
  {
   "cell_type": "code",
   "execution_count": 140,
   "metadata": {
    "scrolled": true
   },
   "outputs": [
    {
     "name": "stdout",
     "output_type": "stream",
     "text": [
      "[0.20232313 0.17084011 0.03761374 0.06738355 0.12997271 0.01303171\n",
      " 0.10583916 0.0648666  0.20812928]\n"
     ]
    }
   ],
   "source": [
    "print(rnd_clf_5.feature_importances_)"
   ]
  },
  {
   "cell_type": "code",
   "execution_count": 155,
   "metadata": {
    "scrolled": true
   },
   "outputs": [
    {
     "data": {
      "image/png": "[encoded data removed]",
      "text/plain": [
       "<Figure size 432x288 with 1 Axes>"
      ]
     },
     "metadata": {
      "needs_background": "light"
     },
     "output_type": "display_data"
    }
   ],
   "source": [
    "plot_feature_importances(rnd_clf_5,\" 5 years forecast \")\n"
   ]
  },
  {
   "cell_type": "markdown",
   "metadata": {},
   "source": [
    "#### ANN"
   ]
  },
  {
   "cell_type": "code",
   "execution_count": 156,
   "metadata": {
    "scrolled": true
   },
   "outputs": [
    {
     "data": {
      "text/plain": [
       "MLPClassifier(activation='relu', alpha=1e-05, batch_size='auto', beta_1=0.9,\n",
       "              beta_2=0.999, early_stopping=False, epsilon=1e-08,\n",
       "              hidden_layer_sizes=(1000, 5), learning_rate='constant',\n",
       "              learning_rate_init=0.001, max_iter=200, momentum=0.9,\n",
       "              n_iter_no_change=10, nesterovs_momentum=True, power_t=0.5,\n",
       "              random_state=1, shuffle=True, solver='lbfgs', tol=0.0001,\n",
       "              validation_fraction=0.1, verbose=False, warm_start=False)"
      ]
     },
     "execution_count": 156,
     "metadata": {},
     "output_type": "execute_result"
    }
   ],
   "source": [
    "ann_clf_5 = MLPClassifier(solver='lbfgs', alpha=1e-5,hidden_layer_sizes=(1000,5), random_state=1)\n",
    "ann_clf_5.fit(X, y['Category FC5'])"
   ]
  },
  {
   "cell_type": "code",
   "execution_count": 157,
   "metadata": {},
   "outputs": [
    {
     "name": "stdout",
     "output_type": "stream",
     "text": [
      "Layers and iter\n",
      "4\n",
      "18\n"
     ]
    }
   ],
   "source": [
    "print(\"Layers and iter\")\n",
    "print(ann_clf_5.n_layers_)\n",
    "print(ann_clf_5.n_iter_)"
   ]
  },
  {
   "cell_type": "code",
   "execution_count": 158,
   "metadata": {
    "scrolled": true
   },
   "outputs": [
    {
     "name": "stdout",
     "output_type": "stream",
     "text": [
      "MLPClassifier : 0.6630488406512087\n"
     ]
    }
   ],
   "source": [
    "y_pred_ann_5=ann_clf_5.predict(X)\n",
    "print(ann_clf_5.__class__.__name__,\":\",accuracy_score(y['Category FC5'], y_pred_ann_5))"
   ]
  },
  {
   "cell_type": "code",
   "execution_count": null,
   "metadata": {},
   "outputs": [],
   "source": []
  },
  {
   "cell_type": "code",
   "execution_count": null,
   "metadata": {},
   "outputs": [],
   "source": []
  },
  {
   "cell_type": "code",
   "execution_count": null,
   "metadata": {},
   "outputs": [],
   "source": []
  },
  {
   "cell_type": "markdown",
   "metadata": {},
   "source": [
    "#### Ten years Forecast\n",
    "\n",
    "1. Random Forests\n",
    "2. Gradien Boost Ensemble\n",
    "3. ANN"
   ]
  },
  {
   "cell_type": "markdown",
   "metadata": {},
   "source": [
    "Random Forests\n"
   ]
  },
  {
   "cell_type": "code",
   "execution_count": 159,
   "metadata": {},
   "outputs": [
    {
     "data": {
      "text/plain": [
       "RandomForestClassifier(bootstrap=True, class_weight=None, criterion='gini',\n",
       "                       max_depth=None, max_features='auto', max_leaf_nodes=None,\n",
       "                       min_impurity_decrease=0.0, min_impurity_split=None,\n",
       "                       min_samples_leaf=1, min_samples_split=2,\n",
       "                       min_weight_fraction_leaf=0.0, n_estimators=500,\n",
       "                       n_jobs=-1, oob_score=False, random_state=0, verbose=0,\n",
       "                       warm_start=False)"
      ]
     },
     "execution_count": 159,
     "metadata": {},
     "output_type": "execute_result"
    }
   ],
   "source": [
    "X_train, X_test, y_train, y_test = train_test_split(X, y, test_size=0.15, random_state=0)\n",
    "rnd_clf_10 = RandomForestClassifier(n_estimators=500,n_jobs=-1, random_state=0)\n",
    "rnd_clf_10.fit(X_train, y_train['Category FC10'])\n"
   ]
  },
  {
   "cell_type": "code",
   "execution_count": 160,
   "metadata": {
    "scrolled": true
   },
   "outputs": [
    {
     "name": "stdout",
     "output_type": "stream",
     "text": [
      "RandomForestClassifier : 0.9205722742969906\n"
     ]
    }
   ],
   "source": [
    "y_pred_rnd_10= rnd_clf_10.predict(X)\n",
    "print(rnd_clf_10.__class__.__name__,\":\",accuracy_score(y['Category FC10'], y_pred_rnd_10))"
   ]
  },
  {
   "cell_type": "code",
   "execution_count": 161,
   "metadata": {
    "scrolled": true
   },
   "outputs": [
    {
     "name": "stdout",
     "output_type": "stream",
     "text": [
      "[0.18416137 0.16888317 0.03941691 0.06974129 0.1272394  0.01383307\n",
      " 0.11589078 0.06941289 0.21142111]\n"
     ]
    }
   ],
   "source": [
    "print(rnd_clf_10.feature_importances_)"
   ]
  },
  {
   "cell_type": "code",
   "execution_count": 162,
   "metadata": {},
   "outputs": [
    {
     "data": {
      "image/png": "[encoded data removed]",
      "text/plain": [
       "<Figure size 432x288 with 1 Axes>"
      ]
     },
     "metadata": {
      "needs_background": "light"
     },
     "output_type": "display_data"
    }
   ],
   "source": [
    "plot_feature_importances(rnd_clf_10,\" 10 years forecast \")"
   ]
  },
  {
   "cell_type": "markdown",
   "metadata": {},
   "source": [
    "#### ANN"
   ]
  },
  {
   "cell_type": "code",
   "execution_count": 163,
   "metadata": {},
   "outputs": [
    {
     "data": {
      "text/plain": [
       "MLPClassifier(activation='relu', alpha=1e-05, batch_size='auto', beta_1=0.9,\n",
       "              beta_2=0.999, early_stopping=False, epsilon=1e-08,\n",
       "              hidden_layer_sizes=(1000, 5), learning_rate='constant',\n",
       "              learning_rate_init=0.001, max_iter=200, momentum=0.9,\n",
       "              n_iter_no_change=10, nesterovs_momentum=True, power_t=0.5,\n",
       "              random_state=1, shuffle=True, solver='lbfgs', tol=0.0001,\n",
       "              validation_fraction=0.1, verbose=False, warm_start=False)"
      ]
     },
     "execution_count": 163,
     "metadata": {},
     "output_type": "execute_result"
    }
   ],
   "source": [
    "ann_clf_10 = MLPClassifier(solver='lbfgs', alpha=1e-5,hidden_layer_sizes=(1000,5), random_state=1)\n",
    "ann_clf_10.fit(X, y['Category FC5'])"
   ]
  },
  {
   "cell_type": "code",
   "execution_count": 164,
   "metadata": {},
   "outputs": [
    {
     "name": "stdout",
     "output_type": "stream",
     "text": [
      "Layers and iter\n",
      "4\n",
      "18\n"
     ]
    }
   ],
   "source": [
    "print(\"Layers and iter\")\n",
    "print(ann_clf_10.n_layers_)\n",
    "print(ann_clf_10.n_iter_)"
   ]
  },
  {
   "cell_type": "code",
   "execution_count": 165,
   "metadata": {
    "scrolled": true
   },
   "outputs": [
    {
     "name": "stdout",
     "output_type": "stream",
     "text": [
      "MLPClassifier : 0.4826681899618311\n"
     ]
    }
   ],
   "source": [
    "y_pred_ann_10=ann_clf_10.predict(X)\n",
    "print(ann_clf_10.__class__.__name__,\":\",accuracy_score(y['Category FC10'], y_pred_ann_10))"
   ]
  },
  {
   "cell_type": "code",
   "execution_count": null,
   "metadata": {},
   "outputs": [],
   "source": []
  }
 ],
 "metadata": {
  "kernelspec": {
   "display_name": "Python 3",
   "language": "python",
   "name": "python3"
  },
  "language_info": {
   "codemirror_mode": {
    "name": "ipython",
    "version": 3
   },
   "file_extension": ".py",
   "mimetype": "text/x-python",
   "name": "python",
   "nbconvert_exporter": "python",
   "pygments_lexer": "ipython3",
   "version": "3.7.4"
  }
 },
 "nbformat": 4,
 "nbformat_minor": 2
}
